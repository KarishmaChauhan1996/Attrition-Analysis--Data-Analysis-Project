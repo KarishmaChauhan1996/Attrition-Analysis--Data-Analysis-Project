{
 "cells": [
  {
   "cell_type": "code",
   "execution_count": 1,
   "id": "cc36db3e-7cb8-4309-a1c7-9ad5e34339ed",
   "metadata": {},
   "outputs": [],
   "source": [
    "import pandas as pd\n",
    "import numpy as np\n",
    "import scipy.stats as stats\n",
    "import seaborn as sns\n",
    "import matplotlib.pyplot as plt\n"
   ]
  },
  {
   "cell_type": "code",
   "execution_count": 2,
   "id": "52b35387-f48f-465c-8845-80d52e2febf8",
   "metadata": {},
   "outputs": [],
   "source": [
    "customers= pd.read_csv('Customer.csv')\n",
    "product_hierarchy= pd.read_csv('prod_cat_info.csv')\n",
    "transactions= pd.read_csv('Transactions.csv')"
   ]
  },
  {
   "cell_type": "code",
   "execution_count": 3,
   "id": "b10a9f28-0250-41bc-865c-5c664d331ae0",
   "metadata": {
    "scrolled": true
   },
   "outputs": [
    {
     "name": "stdout",
     "output_type": "stream",
     "text": [
      "(5647, 4)\n",
      "(23, 4)\n",
      "(23053, 10)\n"
     ]
    }
   ],
   "source": [
    "print(customers.shape)\n",
    "print(product_hierarchy.shape)\n",
    "print(transactions.shape)"
   ]
  },
  {
   "cell_type": "code",
   "execution_count": 4,
   "id": "4974b5d8-9a12-4055-bf99-d8c15ca68c4a",
   "metadata": {
    "scrolled": true
   },
   "outputs": [
    {
     "data": {
      "text/html": [
       "<div>\n",
       "<style scoped>\n",
       "    .dataframe tbody tr th:only-of-type {\n",
       "        vertical-align: middle;\n",
       "    }\n",
       "\n",
       "    .dataframe tbody tr th {\n",
       "        vertical-align: top;\n",
       "    }\n",
       "\n",
       "    .dataframe thead th {\n",
       "        text-align: right;\n",
       "    }\n",
       "</style>\n",
       "<table border=\"1\" class=\"dataframe\">\n",
       "  <thead>\n",
       "    <tr style=\"text-align: right;\">\n",
       "      <th></th>\n",
       "      <th>customer_Id</th>\n",
       "      <th>DOB</th>\n",
       "      <th>Gender</th>\n",
       "      <th>city_code</th>\n",
       "    </tr>\n",
       "  </thead>\n",
       "  <tbody>\n",
       "    <tr>\n",
       "      <th>0</th>\n",
       "      <td>268408</td>\n",
       "      <td>02-01-1970</td>\n",
       "      <td>M</td>\n",
       "      <td>4.0</td>\n",
       "    </tr>\n",
       "    <tr>\n",
       "      <th>1</th>\n",
       "      <td>269696</td>\n",
       "      <td>07-01-1970</td>\n",
       "      <td>F</td>\n",
       "      <td>8.0</td>\n",
       "    </tr>\n",
       "    <tr>\n",
       "      <th>2</th>\n",
       "      <td>268159</td>\n",
       "      <td>08-01-1970</td>\n",
       "      <td>F</td>\n",
       "      <td>8.0</td>\n",
       "    </tr>\n",
       "    <tr>\n",
       "      <th>3</th>\n",
       "      <td>270181</td>\n",
       "      <td>10-01-1970</td>\n",
       "      <td>F</td>\n",
       "      <td>2.0</td>\n",
       "    </tr>\n",
       "    <tr>\n",
       "      <th>4</th>\n",
       "      <td>268073</td>\n",
       "      <td>11-01-1970</td>\n",
       "      <td>M</td>\n",
       "      <td>1.0</td>\n",
       "    </tr>\n",
       "  </tbody>\n",
       "</table>\n",
       "</div>"
      ],
      "text/plain": [
       "   customer_Id         DOB Gender  city_code\n",
       "0       268408  02-01-1970      M        4.0\n",
       "1       269696  07-01-1970      F        8.0\n",
       "2       268159  08-01-1970      F        8.0\n",
       "3       270181  10-01-1970      F        2.0\n",
       "4       268073  11-01-1970      M        1.0"
      ]
     },
     "execution_count": 4,
     "metadata": {},
     "output_type": "execute_result"
    }
   ],
   "source": [
    "customers.head()"
   ]
  },
  {
   "cell_type": "code",
   "execution_count": 5,
   "id": "515109f2-3d39-4a0d-aaec-12ab9163f7b6",
   "metadata": {},
   "outputs": [
    {
     "data": {
      "text/html": [
       "<div>\n",
       "<style scoped>\n",
       "    .dataframe tbody tr th:only-of-type {\n",
       "        vertical-align: middle;\n",
       "    }\n",
       "\n",
       "    .dataframe tbody tr th {\n",
       "        vertical-align: top;\n",
       "    }\n",
       "\n",
       "    .dataframe thead th {\n",
       "        text-align: right;\n",
       "    }\n",
       "</style>\n",
       "<table border=\"1\" class=\"dataframe\">\n",
       "  <thead>\n",
       "    <tr style=\"text-align: right;\">\n",
       "      <th></th>\n",
       "      <th>prod_cat_code</th>\n",
       "      <th>prod_cat</th>\n",
       "      <th>prod_sub_cat_code</th>\n",
       "      <th>prod_subcat</th>\n",
       "    </tr>\n",
       "  </thead>\n",
       "  <tbody>\n",
       "    <tr>\n",
       "      <th>0</th>\n",
       "      <td>1</td>\n",
       "      <td>Clothing</td>\n",
       "      <td>4</td>\n",
       "      <td>Mens</td>\n",
       "    </tr>\n",
       "    <tr>\n",
       "      <th>1</th>\n",
       "      <td>1</td>\n",
       "      <td>Clothing</td>\n",
       "      <td>1</td>\n",
       "      <td>Women</td>\n",
       "    </tr>\n",
       "    <tr>\n",
       "      <th>2</th>\n",
       "      <td>1</td>\n",
       "      <td>Clothing</td>\n",
       "      <td>3</td>\n",
       "      <td>Kids</td>\n",
       "    </tr>\n",
       "    <tr>\n",
       "      <th>3</th>\n",
       "      <td>2</td>\n",
       "      <td>Footwear</td>\n",
       "      <td>1</td>\n",
       "      <td>Mens</td>\n",
       "    </tr>\n",
       "    <tr>\n",
       "      <th>4</th>\n",
       "      <td>2</td>\n",
       "      <td>Footwear</td>\n",
       "      <td>3</td>\n",
       "      <td>Women</td>\n",
       "    </tr>\n",
       "  </tbody>\n",
       "</table>\n",
       "</div>"
      ],
      "text/plain": [
       "   prod_cat_code  prod_cat  prod_sub_cat_code prod_subcat\n",
       "0              1  Clothing                  4        Mens\n",
       "1              1  Clothing                  1       Women\n",
       "2              1  Clothing                  3        Kids\n",
       "3              2  Footwear                  1        Mens\n",
       "4              2  Footwear                  3       Women"
      ]
     },
     "execution_count": 5,
     "metadata": {},
     "output_type": "execute_result"
    }
   ],
   "source": [
    "product_hierarchy.head()"
   ]
  },
  {
   "cell_type": "code",
   "execution_count": 6,
   "id": "0b682f8f-44ca-47cf-ab5b-96ec8c223eff",
   "metadata": {},
   "outputs": [
    {
     "data": {
      "text/html": [
       "<div>\n",
       "<style scoped>\n",
       "    .dataframe tbody tr th:only-of-type {\n",
       "        vertical-align: middle;\n",
       "    }\n",
       "\n",
       "    .dataframe tbody tr th {\n",
       "        vertical-align: top;\n",
       "    }\n",
       "\n",
       "    .dataframe thead th {\n",
       "        text-align: right;\n",
       "    }\n",
       "</style>\n",
       "<table border=\"1\" class=\"dataframe\">\n",
       "  <thead>\n",
       "    <tr style=\"text-align: right;\">\n",
       "      <th></th>\n",
       "      <th>transaction_id</th>\n",
       "      <th>cust_id</th>\n",
       "      <th>tran_date</th>\n",
       "      <th>prod_subcat_code</th>\n",
       "      <th>prod_cat_code</th>\n",
       "      <th>Qty</th>\n",
       "      <th>Rate</th>\n",
       "      <th>Tax</th>\n",
       "      <th>total_amt</th>\n",
       "      <th>Store_type</th>\n",
       "    </tr>\n",
       "  </thead>\n",
       "  <tbody>\n",
       "    <tr>\n",
       "      <th>0</th>\n",
       "      <td>80712190438</td>\n",
       "      <td>270351</td>\n",
       "      <td>28-02-2014</td>\n",
       "      <td>1</td>\n",
       "      <td>1</td>\n",
       "      <td>-5</td>\n",
       "      <td>-772</td>\n",
       "      <td>405.300</td>\n",
       "      <td>-4265.300</td>\n",
       "      <td>e-Shop</td>\n",
       "    </tr>\n",
       "    <tr>\n",
       "      <th>1</th>\n",
       "      <td>29258453508</td>\n",
       "      <td>270384</td>\n",
       "      <td>27-02-2014</td>\n",
       "      <td>5</td>\n",
       "      <td>3</td>\n",
       "      <td>-5</td>\n",
       "      <td>-1497</td>\n",
       "      <td>785.925</td>\n",
       "      <td>-8270.925</td>\n",
       "      <td>e-Shop</td>\n",
       "    </tr>\n",
       "    <tr>\n",
       "      <th>2</th>\n",
       "      <td>51750724947</td>\n",
       "      <td>273420</td>\n",
       "      <td>24-02-2014</td>\n",
       "      <td>6</td>\n",
       "      <td>5</td>\n",
       "      <td>-2</td>\n",
       "      <td>-791</td>\n",
       "      <td>166.110</td>\n",
       "      <td>-1748.110</td>\n",
       "      <td>TeleShop</td>\n",
       "    </tr>\n",
       "    <tr>\n",
       "      <th>3</th>\n",
       "      <td>93274880719</td>\n",
       "      <td>271509</td>\n",
       "      <td>24-02-2014</td>\n",
       "      <td>11</td>\n",
       "      <td>6</td>\n",
       "      <td>-3</td>\n",
       "      <td>-1363</td>\n",
       "      <td>429.345</td>\n",
       "      <td>-4518.345</td>\n",
       "      <td>e-Shop</td>\n",
       "    </tr>\n",
       "    <tr>\n",
       "      <th>4</th>\n",
       "      <td>51750724947</td>\n",
       "      <td>273420</td>\n",
       "      <td>23-02-2014</td>\n",
       "      <td>6</td>\n",
       "      <td>5</td>\n",
       "      <td>-2</td>\n",
       "      <td>-791</td>\n",
       "      <td>166.110</td>\n",
       "      <td>-1748.110</td>\n",
       "      <td>TeleShop</td>\n",
       "    </tr>\n",
       "  </tbody>\n",
       "</table>\n",
       "</div>"
      ],
      "text/plain": [
       "   transaction_id  cust_id   tran_date  prod_subcat_code  prod_cat_code  Qty  \\\n",
       "0     80712190438   270351  28-02-2014                 1              1   -5   \n",
       "1     29258453508   270384  27-02-2014                 5              3   -5   \n",
       "2     51750724947   273420  24-02-2014                 6              5   -2   \n",
       "3     93274880719   271509  24-02-2014                11              6   -3   \n",
       "4     51750724947   273420  23-02-2014                 6              5   -2   \n",
       "\n",
       "   Rate      Tax  total_amt Store_type  \n",
       "0  -772  405.300  -4265.300     e-Shop  \n",
       "1 -1497  785.925  -8270.925     e-Shop  \n",
       "2  -791  166.110  -1748.110   TeleShop  \n",
       "3 -1363  429.345  -4518.345     e-Shop  \n",
       "4  -791  166.110  -1748.110   TeleShop  "
      ]
     },
     "execution_count": 6,
     "metadata": {},
     "output_type": "execute_result"
    }
   ],
   "source": [
    "transactions.head()"
   ]
  },
  {
   "cell_type": "code",
   "execution_count": 7,
   "id": "e098a3b4-ec25-42a4-a4e6-b896f4c7d089",
   "metadata": {},
   "outputs": [
    {
     "name": "stdout",
     "output_type": "stream",
     "text": [
      "customer_Id    0\n",
      "DOB            0\n",
      "Gender         2\n",
      "city_code      2\n",
      "dtype: int64\n",
      "prod_cat_code        0\n",
      "prod_cat             0\n",
      "prod_sub_cat_code    0\n",
      "prod_subcat          0\n",
      "dtype: int64\n",
      "transaction_id      0\n",
      "cust_id             0\n",
      "tran_date           0\n",
      "prod_subcat_code    0\n",
      "prod_cat_code       0\n",
      "Qty                 0\n",
      "Rate                0\n",
      "Tax                 0\n",
      "total_amt           0\n",
      "Store_type          0\n",
      "dtype: int64\n"
     ]
    }
   ],
   "source": [
    "print(customers.isnull().sum())\n",
    "print(product_hierarchy.isnull().sum())\n",
    "print(transactions.isnull().sum())\n",
    "\n"
   ]
  },
  {
   "cell_type": "code",
   "execution_count": 8,
   "id": "d1bc7809-5e61-46ff-bf93-d4d39492f483",
   "metadata": {},
   "outputs": [
    {
     "data": {
      "text/html": [
       "<div>\n",
       "<style scoped>\n",
       "    .dataframe tbody tr th:only-of-type {\n",
       "        vertical-align: middle;\n",
       "    }\n",
       "\n",
       "    .dataframe tbody tr th {\n",
       "        vertical-align: top;\n",
       "    }\n",
       "\n",
       "    .dataframe thead th {\n",
       "        text-align: right;\n",
       "    }\n",
       "</style>\n",
       "<table border=\"1\" class=\"dataframe\">\n",
       "  <thead>\n",
       "    <tr style=\"text-align: right;\">\n",
       "      <th></th>\n",
       "      <th>transaction_id</th>\n",
       "      <th>cust_id</th>\n",
       "      <th>tran_date</th>\n",
       "      <th>prod_subcat_code</th>\n",
       "      <th>prod_cat_code</th>\n",
       "      <th>Qty</th>\n",
       "      <th>Rate</th>\n",
       "      <th>Tax</th>\n",
       "      <th>total_amt</th>\n",
       "      <th>Store_type</th>\n",
       "      <th>DOB</th>\n",
       "      <th>Gender</th>\n",
       "      <th>city_code</th>\n",
       "      <th>prod_cat</th>\n",
       "      <th>prod_sub_cat_code</th>\n",
       "      <th>prod_subcat</th>\n",
       "    </tr>\n",
       "  </thead>\n",
       "  <tbody>\n",
       "    <tr>\n",
       "      <th>0</th>\n",
       "      <td>80712190438</td>\n",
       "      <td>270351</td>\n",
       "      <td>28-02-2014</td>\n",
       "      <td>1</td>\n",
       "      <td>1</td>\n",
       "      <td>-5</td>\n",
       "      <td>-772</td>\n",
       "      <td>405.300</td>\n",
       "      <td>-4265.300</td>\n",
       "      <td>e-Shop</td>\n",
       "      <td>26-09-1981</td>\n",
       "      <td>M</td>\n",
       "      <td>5.0</td>\n",
       "      <td>Clothing</td>\n",
       "      <td>1</td>\n",
       "      <td>Women</td>\n",
       "    </tr>\n",
       "    <tr>\n",
       "      <th>1</th>\n",
       "      <td>80712190438</td>\n",
       "      <td>270351</td>\n",
       "      <td>20-02-2014</td>\n",
       "      <td>1</td>\n",
       "      <td>1</td>\n",
       "      <td>5</td>\n",
       "      <td>772</td>\n",
       "      <td>405.300</td>\n",
       "      <td>4265.300</td>\n",
       "      <td>e-Shop</td>\n",
       "      <td>26-09-1981</td>\n",
       "      <td>M</td>\n",
       "      <td>5.0</td>\n",
       "      <td>Clothing</td>\n",
       "      <td>1</td>\n",
       "      <td>Women</td>\n",
       "    </tr>\n",
       "    <tr>\n",
       "      <th>2</th>\n",
       "      <td>36957441426</td>\n",
       "      <td>270351</td>\n",
       "      <td>16-09-2013</td>\n",
       "      <td>3</td>\n",
       "      <td>2</td>\n",
       "      <td>3</td>\n",
       "      <td>361</td>\n",
       "      <td>113.715</td>\n",
       "      <td>1196.715</td>\n",
       "      <td>Flagship store</td>\n",
       "      <td>26-09-1981</td>\n",
       "      <td>M</td>\n",
       "      <td>5.0</td>\n",
       "      <td>Footwear</td>\n",
       "      <td>3</td>\n",
       "      <td>Women</td>\n",
       "    </tr>\n",
       "    <tr>\n",
       "      <th>3</th>\n",
       "      <td>12236277258</td>\n",
       "      <td>270351</td>\n",
       "      <td>18-03-2013</td>\n",
       "      <td>8</td>\n",
       "      <td>3</td>\n",
       "      <td>3</td>\n",
       "      <td>1030</td>\n",
       "      <td>324.450</td>\n",
       "      <td>3414.450</td>\n",
       "      <td>e-Shop</td>\n",
       "      <td>26-09-1981</td>\n",
       "      <td>M</td>\n",
       "      <td>5.0</td>\n",
       "      <td>Electronics</td>\n",
       "      <td>8</td>\n",
       "      <td>Personal Appliances</td>\n",
       "    </tr>\n",
       "    <tr>\n",
       "      <th>4</th>\n",
       "      <td>13181563739</td>\n",
       "      <td>270351</td>\n",
       "      <td>13-12-2011</td>\n",
       "      <td>6</td>\n",
       "      <td>5</td>\n",
       "      <td>1</td>\n",
       "      <td>1048</td>\n",
       "      <td>110.040</td>\n",
       "      <td>1158.040</td>\n",
       "      <td>e-Shop</td>\n",
       "      <td>26-09-1981</td>\n",
       "      <td>M</td>\n",
       "      <td>5.0</td>\n",
       "      <td>Books</td>\n",
       "      <td>6</td>\n",
       "      <td>DIY</td>\n",
       "    </tr>\n",
       "  </tbody>\n",
       "</table>\n",
       "</div>"
      ],
      "text/plain": [
       "   transaction_id  cust_id   tran_date  prod_subcat_code  prod_cat_code  Qty  \\\n",
       "0     80712190438   270351  28-02-2014                 1              1   -5   \n",
       "1     80712190438   270351  20-02-2014                 1              1    5   \n",
       "2     36957441426   270351  16-09-2013                 3              2    3   \n",
       "3     12236277258   270351  18-03-2013                 8              3    3   \n",
       "4     13181563739   270351  13-12-2011                 6              5    1   \n",
       "\n",
       "   Rate      Tax  total_amt      Store_type         DOB Gender  city_code  \\\n",
       "0  -772  405.300  -4265.300          e-Shop  26-09-1981      M        5.0   \n",
       "1   772  405.300   4265.300          e-Shop  26-09-1981      M        5.0   \n",
       "2   361  113.715   1196.715  Flagship store  26-09-1981      M        5.0   \n",
       "3  1030  324.450   3414.450          e-Shop  26-09-1981      M        5.0   \n",
       "4  1048  110.040   1158.040          e-Shop  26-09-1981      M        5.0   \n",
       "\n",
       "      prod_cat  prod_sub_cat_code          prod_subcat  \n",
       "0     Clothing                  1                Women  \n",
       "1     Clothing                  1                Women  \n",
       "2     Footwear                  3                Women  \n",
       "3  Electronics                  8  Personal Appliances  \n",
       "4        Books                  6                  DIY  "
      ]
     },
     "execution_count": 8,
     "metadata": {},
     "output_type": "execute_result"
    }
   ],
   "source": [
    "# Merge the datasets\n",
    "\n",
    "customer_final = transactions.merge(customers, left_on='cust_id', right_on='customer_Id', how='inner')\n",
    "customer_final = customer_final.merge(product_hierarchy, left_on=['prod_cat_code', 'prod_subcat_code'], \n",
    "                                      right_on=['prod_cat_code', 'prod_sub_cat_code'], how='left')\n",
    "\n",
    "customer_final.drop(columns= ['customer_Id'], inplace= True)\n",
    "# Display the merged dataset\n",
    "customer_final.head()\n"
   ]
  },
  {
   "cell_type": "markdown",
   "id": "d1ea12d3-8dfb-497e-85ed-5741a8e3a9af",
   "metadata": {},
   "source": [
    "Exploratory Data Analysis\n"
   ]
  },
  {
   "cell_type": "code",
   "execution_count": 9,
   "id": "cf75b94e-2d78-4962-8267-35013d4cf0dd",
   "metadata": {},
   "outputs": [
    {
     "name": "stdout",
     "output_type": "stream",
     "text": [
      "transaction_id         int64\n",
      "cust_id                int64\n",
      "tran_date             object\n",
      "prod_subcat_code       int64\n",
      "prod_cat_code          int64\n",
      "Qty                    int64\n",
      "Rate                   int64\n",
      "Tax                  float64\n",
      "total_amt            float64\n",
      "Store_type            object\n",
      "DOB                   object\n",
      "Gender                object\n",
      "city_code            float64\n",
      "prod_cat              object\n",
      "prod_sub_cat_code      int64\n",
      "prod_subcat           object\n",
      "dtype: object\n"
     ]
    }
   ],
   "source": [
    "#  a. Get the column names and their corresponding data types\n",
    "\n",
    "print(customer_final.dtypes)\n"
   ]
  },
  {
   "cell_type": "code",
   "execution_count": 10,
   "id": "25eae27e-d17c-42b8-8b50-7b499398d2e8",
   "metadata": {},
   "outputs": [
    {
     "data": {
      "text/html": [
       "<div>\n",
       "<style scoped>\n",
       "    .dataframe tbody tr th:only-of-type {\n",
       "        vertical-align: middle;\n",
       "    }\n",
       "\n",
       "    .dataframe tbody tr th {\n",
       "        vertical-align: top;\n",
       "    }\n",
       "\n",
       "    .dataframe thead th {\n",
       "        text-align: right;\n",
       "    }\n",
       "</style>\n",
       "<table border=\"1\" class=\"dataframe\">\n",
       "  <thead>\n",
       "    <tr style=\"text-align: right;\">\n",
       "      <th></th>\n",
       "      <th>transaction_id</th>\n",
       "      <th>cust_id</th>\n",
       "      <th>tran_date</th>\n",
       "      <th>prod_subcat_code</th>\n",
       "      <th>prod_cat_code</th>\n",
       "      <th>Qty</th>\n",
       "      <th>Rate</th>\n",
       "      <th>Tax</th>\n",
       "      <th>total_amt</th>\n",
       "      <th>Store_type</th>\n",
       "      <th>DOB</th>\n",
       "      <th>Gender</th>\n",
       "      <th>city_code</th>\n",
       "      <th>prod_cat</th>\n",
       "      <th>prod_sub_cat_code</th>\n",
       "      <th>prod_subcat</th>\n",
       "    </tr>\n",
       "  </thead>\n",
       "  <tbody>\n",
       "    <tr>\n",
       "      <th>0</th>\n",
       "      <td>80712190438</td>\n",
       "      <td>270351</td>\n",
       "      <td>28-02-2014</td>\n",
       "      <td>1</td>\n",
       "      <td>1</td>\n",
       "      <td>-5</td>\n",
       "      <td>-772</td>\n",
       "      <td>405.300</td>\n",
       "      <td>-4265.300</td>\n",
       "      <td>e-Shop</td>\n",
       "      <td>26-09-1981</td>\n",
       "      <td>M</td>\n",
       "      <td>5.0</td>\n",
       "      <td>Clothing</td>\n",
       "      <td>1</td>\n",
       "      <td>Women</td>\n",
       "    </tr>\n",
       "    <tr>\n",
       "      <th>1</th>\n",
       "      <td>80712190438</td>\n",
       "      <td>270351</td>\n",
       "      <td>20-02-2014</td>\n",
       "      <td>1</td>\n",
       "      <td>1</td>\n",
       "      <td>5</td>\n",
       "      <td>772</td>\n",
       "      <td>405.300</td>\n",
       "      <td>4265.300</td>\n",
       "      <td>e-Shop</td>\n",
       "      <td>26-09-1981</td>\n",
       "      <td>M</td>\n",
       "      <td>5.0</td>\n",
       "      <td>Clothing</td>\n",
       "      <td>1</td>\n",
       "      <td>Women</td>\n",
       "    </tr>\n",
       "    <tr>\n",
       "      <th>2</th>\n",
       "      <td>36957441426</td>\n",
       "      <td>270351</td>\n",
       "      <td>16-09-2013</td>\n",
       "      <td>3</td>\n",
       "      <td>2</td>\n",
       "      <td>3</td>\n",
       "      <td>361</td>\n",
       "      <td>113.715</td>\n",
       "      <td>1196.715</td>\n",
       "      <td>Flagship store</td>\n",
       "      <td>26-09-1981</td>\n",
       "      <td>M</td>\n",
       "      <td>5.0</td>\n",
       "      <td>Footwear</td>\n",
       "      <td>3</td>\n",
       "      <td>Women</td>\n",
       "    </tr>\n",
       "    <tr>\n",
       "      <th>3</th>\n",
       "      <td>12236277258</td>\n",
       "      <td>270351</td>\n",
       "      <td>18-03-2013</td>\n",
       "      <td>8</td>\n",
       "      <td>3</td>\n",
       "      <td>3</td>\n",
       "      <td>1030</td>\n",
       "      <td>324.450</td>\n",
       "      <td>3414.450</td>\n",
       "      <td>e-Shop</td>\n",
       "      <td>26-09-1981</td>\n",
       "      <td>M</td>\n",
       "      <td>5.0</td>\n",
       "      <td>Electronics</td>\n",
       "      <td>8</td>\n",
       "      <td>Personal Appliances</td>\n",
       "    </tr>\n",
       "    <tr>\n",
       "      <th>4</th>\n",
       "      <td>13181563739</td>\n",
       "      <td>270351</td>\n",
       "      <td>13-12-2011</td>\n",
       "      <td>6</td>\n",
       "      <td>5</td>\n",
       "      <td>1</td>\n",
       "      <td>1048</td>\n",
       "      <td>110.040</td>\n",
       "      <td>1158.040</td>\n",
       "      <td>e-Shop</td>\n",
       "      <td>26-09-1981</td>\n",
       "      <td>M</td>\n",
       "      <td>5.0</td>\n",
       "      <td>Books</td>\n",
       "      <td>6</td>\n",
       "      <td>DIY</td>\n",
       "    </tr>\n",
       "    <tr>\n",
       "      <th>5</th>\n",
       "      <td>29258453508</td>\n",
       "      <td>270384</td>\n",
       "      <td>27-02-2014</td>\n",
       "      <td>5</td>\n",
       "      <td>3</td>\n",
       "      <td>-5</td>\n",
       "      <td>-1497</td>\n",
       "      <td>785.925</td>\n",
       "      <td>-8270.925</td>\n",
       "      <td>e-Shop</td>\n",
       "      <td>11-05-1973</td>\n",
       "      <td>F</td>\n",
       "      <td>8.0</td>\n",
       "      <td>Electronics</td>\n",
       "      <td>5</td>\n",
       "      <td>Computers</td>\n",
       "    </tr>\n",
       "    <tr>\n",
       "      <th>6</th>\n",
       "      <td>29258453508</td>\n",
       "      <td>270384</td>\n",
       "      <td>20-02-2014</td>\n",
       "      <td>5</td>\n",
       "      <td>3</td>\n",
       "      <td>5</td>\n",
       "      <td>1497</td>\n",
       "      <td>785.925</td>\n",
       "      <td>8270.925</td>\n",
       "      <td>e-Shop</td>\n",
       "      <td>11-05-1973</td>\n",
       "      <td>F</td>\n",
       "      <td>8.0</td>\n",
       "      <td>Electronics</td>\n",
       "      <td>5</td>\n",
       "      <td>Computers</td>\n",
       "    </tr>\n",
       "    <tr>\n",
       "      <th>7</th>\n",
       "      <td>92734514344</td>\n",
       "      <td>270384</td>\n",
       "      <td>26-10-2013</td>\n",
       "      <td>1</td>\n",
       "      <td>4</td>\n",
       "      <td>2</td>\n",
       "      <td>1362</td>\n",
       "      <td>286.020</td>\n",
       "      <td>3010.020</td>\n",
       "      <td>TeleShop</td>\n",
       "      <td>11-05-1973</td>\n",
       "      <td>F</td>\n",
       "      <td>8.0</td>\n",
       "      <td>Bags</td>\n",
       "      <td>1</td>\n",
       "      <td>Mens</td>\n",
       "    </tr>\n",
       "    <tr>\n",
       "      <th>8</th>\n",
       "      <td>865952996</td>\n",
       "      <td>270384</td>\n",
       "      <td>6/8/2013</td>\n",
       "      <td>12</td>\n",
       "      <td>6</td>\n",
       "      <td>2</td>\n",
       "      <td>86</td>\n",
       "      <td>18.060</td>\n",
       "      <td>190.060</td>\n",
       "      <td>MBR</td>\n",
       "      <td>11-05-1973</td>\n",
       "      <td>F</td>\n",
       "      <td>8.0</td>\n",
       "      <td>Home and kitchen</td>\n",
       "      <td>12</td>\n",
       "      <td>Tools</td>\n",
       "    </tr>\n",
       "    <tr>\n",
       "      <th>9</th>\n",
       "      <td>4116651679</td>\n",
       "      <td>270384</td>\n",
       "      <td>6/8/2013</td>\n",
       "      <td>6</td>\n",
       "      <td>5</td>\n",
       "      <td>1</td>\n",
       "      <td>1343</td>\n",
       "      <td>141.015</td>\n",
       "      <td>1484.015</td>\n",
       "      <td>TeleShop</td>\n",
       "      <td>11-05-1973</td>\n",
       "      <td>F</td>\n",
       "      <td>8.0</td>\n",
       "      <td>Books</td>\n",
       "      <td>6</td>\n",
       "      <td>DIY</td>\n",
       "    </tr>\n",
       "  </tbody>\n",
       "</table>\n",
       "</div>"
      ],
      "text/plain": [
       "   transaction_id  cust_id   tran_date  prod_subcat_code  prod_cat_code  Qty  \\\n",
       "0     80712190438   270351  28-02-2014                 1              1   -5   \n",
       "1     80712190438   270351  20-02-2014                 1              1    5   \n",
       "2     36957441426   270351  16-09-2013                 3              2    3   \n",
       "3     12236277258   270351  18-03-2013                 8              3    3   \n",
       "4     13181563739   270351  13-12-2011                 6              5    1   \n",
       "5     29258453508   270384  27-02-2014                 5              3   -5   \n",
       "6     29258453508   270384  20-02-2014                 5              3    5   \n",
       "7     92734514344   270384  26-10-2013                 1              4    2   \n",
       "8       865952996   270384    6/8/2013                12              6    2   \n",
       "9      4116651679   270384    6/8/2013                 6              5    1   \n",
       "\n",
       "   Rate      Tax  total_amt      Store_type         DOB Gender  city_code  \\\n",
       "0  -772  405.300  -4265.300          e-Shop  26-09-1981      M        5.0   \n",
       "1   772  405.300   4265.300          e-Shop  26-09-1981      M        5.0   \n",
       "2   361  113.715   1196.715  Flagship store  26-09-1981      M        5.0   \n",
       "3  1030  324.450   3414.450          e-Shop  26-09-1981      M        5.0   \n",
       "4  1048  110.040   1158.040          e-Shop  26-09-1981      M        5.0   \n",
       "5 -1497  785.925  -8270.925          e-Shop  11-05-1973      F        8.0   \n",
       "6  1497  785.925   8270.925          e-Shop  11-05-1973      F        8.0   \n",
       "7  1362  286.020   3010.020        TeleShop  11-05-1973      F        8.0   \n",
       "8    86   18.060    190.060             MBR  11-05-1973      F        8.0   \n",
       "9  1343  141.015   1484.015        TeleShop  11-05-1973      F        8.0   \n",
       "\n",
       "           prod_cat  prod_sub_cat_code          prod_subcat  \n",
       "0          Clothing                  1                Women  \n",
       "1          Clothing                  1                Women  \n",
       "2          Footwear                  3                Women  \n",
       "3       Electronics                  8  Personal Appliances  \n",
       "4             Books                  6                  DIY  \n",
       "5       Electronics                  5            Computers  \n",
       "6       Electronics                  5            Computers  \n",
       "7              Bags                  1                 Mens  \n",
       "8  Home and kitchen                 12                Tools  \n",
       "9             Books                  6                  DIY  "
      ]
     },
     "execution_count": 10,
     "metadata": {},
     "output_type": "execute_result"
    }
   ],
   "source": [
    "# Top 10 observation\n",
    "customer_final.head(10)  \n",
    "\n"
   ]
  },
  {
   "cell_type": "code",
   "execution_count": 11,
   "id": "5d2a3e6e-0c73-4c71-b53f-4da40b37c64f",
   "metadata": {},
   "outputs": [
    {
     "data": {
      "text/html": [
       "<div>\n",
       "<style scoped>\n",
       "    .dataframe tbody tr th:only-of-type {\n",
       "        vertical-align: middle;\n",
       "    }\n",
       "\n",
       "    .dataframe tbody tr th {\n",
       "        vertical-align: top;\n",
       "    }\n",
       "\n",
       "    .dataframe thead th {\n",
       "        text-align: right;\n",
       "    }\n",
       "</style>\n",
       "<table border=\"1\" class=\"dataframe\">\n",
       "  <thead>\n",
       "    <tr style=\"text-align: right;\">\n",
       "      <th></th>\n",
       "      <th>transaction_id</th>\n",
       "      <th>cust_id</th>\n",
       "      <th>prod_subcat_code</th>\n",
       "      <th>prod_cat_code</th>\n",
       "      <th>Qty</th>\n",
       "      <th>Rate</th>\n",
       "      <th>Tax</th>\n",
       "      <th>total_amt</th>\n",
       "      <th>city_code</th>\n",
       "      <th>prod_sub_cat_code</th>\n",
       "    </tr>\n",
       "  </thead>\n",
       "  <tbody>\n",
       "    <tr>\n",
       "      <th>count</th>\n",
       "      <td>2.305300e+04</td>\n",
       "      <td>23053.000000</td>\n",
       "      <td>23053.000000</td>\n",
       "      <td>23053.000000</td>\n",
       "      <td>23053.000000</td>\n",
       "      <td>23053.000000</td>\n",
       "      <td>23053.000000</td>\n",
       "      <td>23053.000000</td>\n",
       "      <td>23045.000000</td>\n",
       "      <td>23053.000000</td>\n",
       "    </tr>\n",
       "    <tr>\n",
       "      <th>mean</th>\n",
       "      <td>5.007348e+10</td>\n",
       "      <td>271021.746497</td>\n",
       "      <td>6.149091</td>\n",
       "      <td>3.763632</td>\n",
       "      <td>2.432395</td>\n",
       "      <td>636.369713</td>\n",
       "      <td>248.667192</td>\n",
       "      <td>2107.308002</td>\n",
       "      <td>5.482534</td>\n",
       "      <td>6.149091</td>\n",
       "    </tr>\n",
       "    <tr>\n",
       "      <th>std</th>\n",
       "      <td>2.898194e+10</td>\n",
       "      <td>2431.692059</td>\n",
       "      <td>3.726372</td>\n",
       "      <td>1.677016</td>\n",
       "      <td>2.268406</td>\n",
       "      <td>622.363498</td>\n",
       "      <td>187.177773</td>\n",
       "      <td>2507.561264</td>\n",
       "      <td>2.863499</td>\n",
       "      <td>3.726372</td>\n",
       "    </tr>\n",
       "    <tr>\n",
       "      <th>min</th>\n",
       "      <td>3.268991e+06</td>\n",
       "      <td>266783.000000</td>\n",
       "      <td>1.000000</td>\n",
       "      <td>1.000000</td>\n",
       "      <td>-5.000000</td>\n",
       "      <td>-1499.000000</td>\n",
       "      <td>7.350000</td>\n",
       "      <td>-8270.925000</td>\n",
       "      <td>1.000000</td>\n",
       "      <td>1.000000</td>\n",
       "    </tr>\n",
       "    <tr>\n",
       "      <th>25%</th>\n",
       "      <td>2.493864e+10</td>\n",
       "      <td>268935.000000</td>\n",
       "      <td>3.000000</td>\n",
       "      <td>2.000000</td>\n",
       "      <td>1.000000</td>\n",
       "      <td>312.000000</td>\n",
       "      <td>98.280000</td>\n",
       "      <td>762.450000</td>\n",
       "      <td>3.000000</td>\n",
       "      <td>3.000000</td>\n",
       "    </tr>\n",
       "    <tr>\n",
       "      <th>50%</th>\n",
       "      <td>5.009313e+10</td>\n",
       "      <td>270980.000000</td>\n",
       "      <td>5.000000</td>\n",
       "      <td>4.000000</td>\n",
       "      <td>3.000000</td>\n",
       "      <td>710.000000</td>\n",
       "      <td>199.080000</td>\n",
       "      <td>1754.740000</td>\n",
       "      <td>5.000000</td>\n",
       "      <td>5.000000</td>\n",
       "    </tr>\n",
       "    <tr>\n",
       "      <th>75%</th>\n",
       "      <td>7.533000e+10</td>\n",
       "      <td>273114.000000</td>\n",
       "      <td>10.000000</td>\n",
       "      <td>5.000000</td>\n",
       "      <td>4.000000</td>\n",
       "      <td>1109.000000</td>\n",
       "      <td>365.715000</td>\n",
       "      <td>3569.150000</td>\n",
       "      <td>8.000000</td>\n",
       "      <td>10.000000</td>\n",
       "    </tr>\n",
       "    <tr>\n",
       "      <th>max</th>\n",
       "      <td>9.998755e+10</td>\n",
       "      <td>275265.000000</td>\n",
       "      <td>12.000000</td>\n",
       "      <td>6.000000</td>\n",
       "      <td>5.000000</td>\n",
       "      <td>1500.000000</td>\n",
       "      <td>787.500000</td>\n",
       "      <td>8287.500000</td>\n",
       "      <td>10.000000</td>\n",
       "      <td>12.000000</td>\n",
       "    </tr>\n",
       "  </tbody>\n",
       "</table>\n",
       "</div>"
      ],
      "text/plain": [
       "       transaction_id        cust_id  prod_subcat_code  prod_cat_code  \\\n",
       "count    2.305300e+04   23053.000000      23053.000000   23053.000000   \n",
       "mean     5.007348e+10  271021.746497          6.149091       3.763632   \n",
       "std      2.898194e+10    2431.692059          3.726372       1.677016   \n",
       "min      3.268991e+06  266783.000000          1.000000       1.000000   \n",
       "25%      2.493864e+10  268935.000000          3.000000       2.000000   \n",
       "50%      5.009313e+10  270980.000000          5.000000       4.000000   \n",
       "75%      7.533000e+10  273114.000000         10.000000       5.000000   \n",
       "max      9.998755e+10  275265.000000         12.000000       6.000000   \n",
       "\n",
       "                Qty          Rate           Tax     total_amt     city_code  \\\n",
       "count  23053.000000  23053.000000  23053.000000  23053.000000  23045.000000   \n",
       "mean       2.432395    636.369713    248.667192   2107.308002      5.482534   \n",
       "std        2.268406    622.363498    187.177773   2507.561264      2.863499   \n",
       "min       -5.000000  -1499.000000      7.350000  -8270.925000      1.000000   \n",
       "25%        1.000000    312.000000     98.280000    762.450000      3.000000   \n",
       "50%        3.000000    710.000000    199.080000   1754.740000      5.000000   \n",
       "75%        4.000000   1109.000000    365.715000   3569.150000      8.000000   \n",
       "max        5.000000   1500.000000    787.500000   8287.500000     10.000000   \n",
       "\n",
       "       prod_sub_cat_code  \n",
       "count       23053.000000  \n",
       "mean            6.149091  \n",
       "std             3.726372  \n",
       "min             1.000000  \n",
       "25%             3.000000  \n",
       "50%             5.000000  \n",
       "75%            10.000000  \n",
       "max            12.000000  "
      ]
     },
     "execution_count": 11,
     "metadata": {},
     "output_type": "execute_result"
    }
   ],
   "source": [
    "#Five-number summary for continuous variables\n",
    "\n",
    "customer_final.describe()\n"
   ]
  },
  {
   "cell_type": "code",
   "execution_count": 12,
   "id": "3f75e3bf-0ff1-496e-894a-c9b3330d2009",
   "metadata": {},
   "outputs": [
    {
     "data": {
      "image/png": "[encoded data removed]",
      "text/plain": [
       "<Figure size 1500x1000 with 12 Axes>"
      ]
     },
     "metadata": {},
     "output_type": "display_data"
    }
   ],
   "source": [
    "#  Generate histograms for all continuous variables and frequency bars for categorical variables\n",
    "\n",
    "customer_final.select_dtypes(include='number').hist(bins=15, figsize=(15, 10))\n",
    "plt.show()\n"
   ]
  },
  {
   "cell_type": "code",
   "execution_count": 13,
   "id": "0d45e361-7c73-4028-b640-90cf3e7738c0",
   "metadata": {},
   "outputs": [],
   "source": [
    "\n",
    "def parse_transaction_date(date_series):\n",
    "    \"\"\"\n",
    "    Parses a pandas Series of transaction dates with mixed formats\n",
    "    and returns a Series of datetime objects with no nulls.\n",
    "    \"\"\"\n",
    "    # Try format: \"DD-MM-YYYY\"\n",
    "    parsed = pd.to_datetime(date_series, format=\"%d-%m-%Y\", errors='coerce')\n",
    "\n",
    "    # Fill failed parses with format: \"MM/DD/YYYY\"\n",
    "    parsed = parsed.fillna(pd.to_datetime(date_series, format=\"%m/%d/%Y\", errors='coerce'))\n",
    "\n",
    "    # Final fallback: auto-infer format with dayfirst=True\n",
    "    parsed = parsed.fillna(pd.to_datetime(date_series, dayfirst=True, errors='coerce'))\n",
    "\n",
    "    # Final check: Fill any remaining nulls with a placeholder or raise error\n",
    "    if parsed.isna().sum() > 0:\n",
    "        raise ValueError(\"Some dates could not be parsed. Please check the input.\")\n",
    "\n",
    "    return parsed\n"
   ]
  },
  {
   "cell_type": "code",
   "execution_count": 14,
   "id": "3e1b99bc-6baf-4b5f-9f1a-262489c4ecbb",
   "metadata": {},
   "outputs": [
    {
     "name": "stdout",
     "output_type": "stream",
     "text": [
      "Requirement already satisfied: python-dateutil in c:\\users\\karis\\anaconda3\\lib\\site-packages (2.8.2)\n",
      "Requirement already satisfied: six>=1.5 in c:\\users\\karis\\anaconda3\\lib\\site-packages (from python-dateutil) (1.16.0)\n",
      "Note: you may need to restart the kernel to use updated packages.\n"
     ]
    }
   ],
   "source": [
    "pip install python-dateutil\n"
   ]
  },
  {
   "cell_type": "code",
   "execution_count": 15,
   "id": "ef9810bb-5aaa-44a7-97e4-14c1e69c8155",
   "metadata": {},
   "outputs": [],
   "source": [
    "import pandas as pd\n",
    "from dateutil import parser\n",
    "\n",
    "def robust_parse_dates(date_series):\n",
    "    parsed_dates = []\n",
    "\n",
    "    for val in date_series:\n",
    "        try:\n",
    "            parsed = parser.parse(val, dayfirst=True)\n",
    "            parsed_dates.append(parsed)\n",
    "        except Exception as e:\n",
    "            print(f\"Failed to parse: {val} — {e}\")\n",
    "            raise ValueError(f\"Unparsable date found: {val}\")\n",
    "\n",
    "    return pd.Series(parsed_dates)\n"
   ]
  },
  {
   "cell_type": "code",
   "execution_count": 16,
   "id": "f5931440-5a67-420e-adfb-a65457c3740d",
   "metadata": {},
   "outputs": [],
   "source": [
    "customer_final['tran_date'] = robust_parse_dates(customer_final['tran_date'])\n"
   ]
  },
  {
   "cell_type": "code",
   "execution_count": 17,
   "id": "f2a8b514-7247-4a36-9f02-8e9dfc2d1cb4",
   "metadata": {},
   "outputs": [],
   "source": [
    "customer_final['YearMonth'] = customer_final['tran_date'].dt.to_period('M').dt.to_timestamp()\n"
   ]
  },
  {
   "cell_type": "code",
   "execution_count": 18,
   "id": "14727b98-ec17-4901-942f-72326d6fc3a4",
   "metadata": {},
   "outputs": [
    {
     "name": "stdout",
     "output_type": "stream",
     "text": [
      "2177\n"
     ]
    }
   ],
   "source": [
    "#  Count of transactions where orders were returned\n",
    "\n",
    "negative_transactions = customer_final[customer_final['total_amt'] < 0]\n",
    "print(negative_transactions.shape[0])\n",
    "\n"
   ]
  },
  {
   "cell_type": "code",
   "execution_count": 19,
   "id": "f6f1e442-0f08-4f85-9c3e-d3efe59a28e5",
   "metadata": {},
   "outputs": [
    {
     "data": {
      "text/plain": [
       "-6627"
      ]
     },
     "execution_count": 19,
     "metadata": {},
     "output_type": "execute_result"
    }
   ],
   "source": [
    "# Find Total Returns\n",
    "\n",
    "(customer_final[customer_final['total_amt'] < 0]).Qty.sum()\n",
    "\n"
   ]
  },
  {
   "cell_type": "code",
   "execution_count": 20,
   "id": "222df6ee-0387-470f-a01e-bae2ec105c94",
   "metadata": {},
   "outputs": [
    {
     "name": "stdout",
     "output_type": "stream",
     "text": [
      "Gender               F     M\n",
      "prod_cat                    \n",
      "Bags              2362  2346\n",
      "Books             7070  7587\n",
      "Clothing          3425  3748\n",
      "Electronics       5832  6476\n",
      "Footwear          3716  3555\n",
      "Home and kitchen  4895  5041\n"
     ]
    }
   ],
   "source": [
    "# Analyze which product categories are more popular among females vs male customers\n",
    "\n",
    "\n",
    "popular_by_gender = customer_final.groupby(['Gender', 'prod_cat'])['Qty'].sum().unstack().T\n",
    "print(popular_by_gender)\n"
   ]
  },
  {
   "cell_type": "code",
   "execution_count": 21,
   "id": "e8d026cf-51a4-4e79-82c6-d9b2c43d3237",
   "metadata": {},
   "outputs": [
    {
     "name": "stdout",
     "output_type": "stream",
     "text": [
      "City with max customers: 3.0, Percentage: 10.47%\n"
     ]
    }
   ],
   "source": [
    "#  City code having the maximum customers and the percentage of customers from that city?\n",
    "\n",
    "city_customer_count = customer_final.groupby('city_code')['cust_id'].nunique()\n",
    "max_city = city_customer_count.idxmax()\n",
    "max_city_percentage = (city_customer_count.max() / city_customer_count.sum()) * 100\n",
    "\n",
    "print(f\"City with max customers: {max_city}, Percentage: {max_city_percentage:.2f}%\")\n",
    "\n"
   ]
  },
  {
   "cell_type": "code",
   "execution_count": 22,
   "id": "840c7b58-2143-44d8-b57a-c3d299d81d1b",
   "metadata": {},
   "outputs": [
    {
     "name": "stdout",
     "output_type": "stream",
     "text": [
      "Store type with max sales by value: e-Shop\n",
      "Store type with max sales by quantity: e-Shop\n"
     ]
    }
   ],
   "source": [
    "# Store type selling the maximum products by value and by quantity\n",
    "\n",
    "store_sales_value = customer_final.groupby('Store_type')['total_amt'].sum().idxmax()\n",
    "store_sales_quantity = customer_final.groupby('Store_type')['Qty'].sum().idxmax()\n",
    "\n",
    "print(f\"Store type with max sales by value: {store_sales_value}\")\n",
    "print(f\"Store type with max sales by quantity: {store_sales_quantity}\")\n"
   ]
  },
  {
   "cell_type": "code",
   "execution_count": 23,
   "id": "38098c62-583a-4d08-9436-44190d15865b",
   "metadata": {},
   "outputs": [
    {
     "name": "stdout",
     "output_type": "stream",
     "text": [
      "Total amount from Electronics and Clothing in Flagship Stores: 3409559.27\n"
     ]
    }
   ],
   "source": [
    "# Total amount earned from the \"Electronics\" and \"Clothing\" categories from Flagship Stores?\n",
    "\n",
    "flagship_sales = customer_final[(customer_final['prod_cat'].isin(['Electronics', 'Clothing'])) & \n",
    "                                (customer_final['Store_type'] == 'Flagship store')]\n",
    "total_flagship_sales = flagship_sales['total_amt'].sum()\n",
    "\n",
    "print(f\"Total amount from Electronics and Clothing in Flagship Stores: {total_flagship_sales}\")\n",
    "\n"
   ]
  },
  {
   "cell_type": "code",
   "execution_count": 24,
   "id": "68dc0cdb-cdf5-41a2-b83d-039db59f60ab",
   "metadata": {},
   "outputs": [
    {
     "name": "stdout",
     "output_type": "stream",
     "text": [
      "Total amount from Male customers in Electronics: 5703109.425000001\n"
     ]
    }
   ],
   "source": [
    "# Total amount earned from \"Male\" customers under the \"Electronics\" category?\n",
    "\n",
    "male_electronics_sales = customer_final[(customer_final['Gender'] == 'M') & \n",
    "                                        (customer_final['prod_cat'] == 'Electronics')]['total_amt'].sum()\n",
    "\n",
    "print(f\"Total amount from Male customers in Electronics: {male_electronics_sales}\")\n",
    "\n"
   ]
  },
  {
   "cell_type": "code",
   "execution_count": 25,
   "id": "32158db5-0d56-4147-9b2b-5f54b1c438d7",
   "metadata": {},
   "outputs": [
    {
     "name": "stdout",
     "output_type": "stream",
     "text": [
      "Number of customers with more than 10 unique transactions: 6\n"
     ]
    }
   ],
   "source": [
    "#  Customers having more than 10 unique transactions, after removing all transactions  which have any negative amounts?\n",
    "\n",
    "valid_transactions = customer_final[customer_final['total_amt'] >= 0]\n",
    "\n",
    "# Count unique transactions per customer\n",
    "customers_with_10_transactions = valid_transactions.groupby('cust_id')['transaction_id'].nunique()\n",
    "customers_over_10 = customers_with_10_transactions[customers_with_10_transactions > 10].count()\n",
    "\n",
    "print(f\"Number of customers with more than 10 unique transactions: {customers_over_10}\")\n"
   ]
  },
  {
   "cell_type": "code",
   "execution_count": 26,
   "id": "d1359124-6d1b-4076-8566-64f7c3e17d77",
   "metadata": {},
   "outputs": [
    {
     "name": "stdout",
     "output_type": "stream",
     "text": [
      "Total amount spent on Electronics and Books: 2794540.58\n"
     ]
    },
    {
     "name": "stderr",
     "output_type": "stream",
     "text": [
      "C:\\Users\\karis\\AppData\\Local\\Temp\\ipykernel_25432\\3388438597.py:5: UserWarning: Parsing dates in %d-%m-%Y format when dayfirst=False (the default) was specified. Pass `dayfirst=True` or specify a format to silence this warning.\n",
      "  customer_final['DOB'] = pd.to_datetime(customer_final['DOB'])\n"
     ]
    }
   ],
   "source": [
    "# For all customers aged between 25 - 35, find out: total amount spent for “Electronics” and “Books” product categories?\n",
    "\n",
    "from datetime import datetime  # Import datetime module\n",
    "\n",
    "customer_final['DOB'] = pd.to_datetime(customer_final['DOB'])\n",
    "current_year = datetime.now().year\n",
    "customer_final['age'] = current_year - customer_final['DOB'].dt.year\n",
    "\n",
    "# Filter customers aged 25-35\n",
    "age_filtered_customers = customer_final[(customer_final['age'] >= 25) & (customer_final['age'] <= 35)]\n",
    "\n",
    "# 11a: Total amount spent on Electronics and Books\n",
    "total_spent = age_filtered_customers[age_filtered_customers['prod_cat'].isin(['Electronics', 'Books'])]['total_amt'].sum()\n",
    "print(f\"Total amount spent on Electronics and Books: {total_spent}\")\n",
    "\n"
   ]
  },
  {
   "cell_type": "code",
   "execution_count": 27,
   "id": "e1363e62-e1a3-4917-a7b1-848b3a081c99",
   "metadata": {},
   "outputs": [
    {
     "name": "stdout",
     "output_type": "stream",
     "text": [
      "Total amount spent between 1st Jan 2014 and 1st Mar 2014: 313650.935\n"
     ]
    }
   ],
   "source": [
    "# Total amount spent by these customers between 1st Jan, 2014 to 1st Mar, 2014\n",
    "\n",
    "# Total amount spent between 1st Jan 2014 and 1st Mar 2014\n",
    "date_filtered_customers = age_filtered_customers[(age_filtered_customers['tran_date'] >= '2014-01-01') & \n",
    "                                                 (age_filtered_customers['tran_date'] <= '2014-03-01')]\n",
    "\n",
    "total_spent_in_period = date_filtered_customers['total_amt'].sum()\n",
    "print(f\"Total amount spent between 1st Jan 2014 and 1st Mar 2014: {total_spent_in_period}\")\n"
   ]
  },
  {
   "cell_type": "markdown",
   "id": "0f020fed-eec8-4fc4-8df6-0b2d5f0729cd",
   "metadata": {},
   "source": [
    "## Product Demand Prediction (Regression)\n"
   ]
  },
  {
   "cell_type": "code",
   "execution_count": 28,
   "id": "02f28792-d10d-4010-ba81-6216bc6f21c3",
   "metadata": {},
   "outputs": [],
   "source": [
    "customer_final['Month']= customer_final['tran_date'].dt.month"
   ]
  },
  {
   "cell_type": "code",
   "execution_count": 29,
   "id": "d5d1bc97-c19c-4488-b018-fa95ca177a51",
   "metadata": {},
   "outputs": [],
   "source": [
    "customer_final1= customer_final.dropna()"
   ]
  },
  {
   "cell_type": "code",
   "execution_count": 30,
   "id": "28bf1d0b-eff2-4557-9baf-26e951f053f9",
   "metadata": {},
   "outputs": [
    {
     "name": "stderr",
     "output_type": "stream",
     "text": [
      "C:\\Users\\karis\\AppData\\Local\\Temp\\ipykernel_25432\\558508658.py:3: UserWarning: Boolean Series key will be reindexed to match DataFrame index.\n",
      "  customer_final1 = customer_final1[customer_final['Qty'] > 0].reset_index()\n"
     ]
    }
   ],
   "source": [
    "# Filter only positive sales (ignore returns)\n",
    "\n",
    "customer_final1 = customer_final1[customer_final['Qty'] > 0].reset_index()\n"
   ]
  },
  {
   "cell_type": "code",
   "execution_count": 31,
   "id": "9d95c235-caf5-4a8e-9d35-1f3a3c5c2e3c",
   "metadata": {},
   "outputs": [
    {
     "data": {
      "text/plain": [
       "(20860, 20)"
      ]
     },
     "execution_count": 31,
     "metadata": {},
     "output_type": "execute_result"
    }
   ],
   "source": [
    "customer_final1.shape"
   ]
  },
  {
   "cell_type": "code",
   "execution_count": 32,
   "id": "f27e12d5-c0a7-4ea6-8912-ee6cd8cd611a",
   "metadata": {},
   "outputs": [],
   "source": [
    "customer_final1['Avg_Selling_Price'] = (customer_final1['total_amt'] - customer_final1['Tax']) / customer_final1['Qty']\n"
   ]
  },
  {
   "cell_type": "code",
   "execution_count": 33,
   "id": "8545b036-670e-4199-af76-f74452eace88",
   "metadata": {},
   "outputs": [
    {
     "data": {
      "text/html": [
       "<div>\n",
       "<style scoped>\n",
       "    .dataframe tbody tr th:only-of-type {\n",
       "        vertical-align: middle;\n",
       "    }\n",
       "\n",
       "    .dataframe tbody tr th {\n",
       "        vertical-align: top;\n",
       "    }\n",
       "\n",
       "    .dataframe thead th {\n",
       "        text-align: right;\n",
       "    }\n",
       "</style>\n",
       "<table border=\"1\" class=\"dataframe\">\n",
       "  <thead>\n",
       "    <tr style=\"text-align: right;\">\n",
       "      <th></th>\n",
       "      <th>index</th>\n",
       "      <th>transaction_id</th>\n",
       "      <th>cust_id</th>\n",
       "      <th>tran_date</th>\n",
       "      <th>prod_subcat_code</th>\n",
       "      <th>prod_cat_code</th>\n",
       "      <th>Qty</th>\n",
       "      <th>Rate</th>\n",
       "      <th>Tax</th>\n",
       "      <th>total_amt</th>\n",
       "      <th>...</th>\n",
       "      <th>DOB</th>\n",
       "      <th>Gender</th>\n",
       "      <th>city_code</th>\n",
       "      <th>prod_cat</th>\n",
       "      <th>prod_sub_cat_code</th>\n",
       "      <th>prod_subcat</th>\n",
       "      <th>YearMonth</th>\n",
       "      <th>age</th>\n",
       "      <th>Month</th>\n",
       "      <th>Avg_Selling_Price</th>\n",
       "    </tr>\n",
       "  </thead>\n",
       "  <tbody>\n",
       "    <tr>\n",
       "      <th>0</th>\n",
       "      <td>1</td>\n",
       "      <td>80712190438</td>\n",
       "      <td>270351</td>\n",
       "      <td>2014-02-20</td>\n",
       "      <td>1</td>\n",
       "      <td>1</td>\n",
       "      <td>5</td>\n",
       "      <td>772</td>\n",
       "      <td>405.300</td>\n",
       "      <td>4265.300</td>\n",
       "      <td>...</td>\n",
       "      <td>1981-09-26</td>\n",
       "      <td>M</td>\n",
       "      <td>5.0</td>\n",
       "      <td>Clothing</td>\n",
       "      <td>1</td>\n",
       "      <td>Women</td>\n",
       "      <td>2014-02-01</td>\n",
       "      <td>44</td>\n",
       "      <td>2</td>\n",
       "      <td>772.0</td>\n",
       "    </tr>\n",
       "    <tr>\n",
       "      <th>1</th>\n",
       "      <td>2</td>\n",
       "      <td>36957441426</td>\n",
       "      <td>270351</td>\n",
       "      <td>2013-09-16</td>\n",
       "      <td>3</td>\n",
       "      <td>2</td>\n",
       "      <td>3</td>\n",
       "      <td>361</td>\n",
       "      <td>113.715</td>\n",
       "      <td>1196.715</td>\n",
       "      <td>...</td>\n",
       "      <td>1981-09-26</td>\n",
       "      <td>M</td>\n",
       "      <td>5.0</td>\n",
       "      <td>Footwear</td>\n",
       "      <td>3</td>\n",
       "      <td>Women</td>\n",
       "      <td>2013-09-01</td>\n",
       "      <td>44</td>\n",
       "      <td>9</td>\n",
       "      <td>361.0</td>\n",
       "    </tr>\n",
       "    <tr>\n",
       "      <th>2</th>\n",
       "      <td>3</td>\n",
       "      <td>12236277258</td>\n",
       "      <td>270351</td>\n",
       "      <td>2013-03-18</td>\n",
       "      <td>8</td>\n",
       "      <td>3</td>\n",
       "      <td>3</td>\n",
       "      <td>1030</td>\n",
       "      <td>324.450</td>\n",
       "      <td>3414.450</td>\n",
       "      <td>...</td>\n",
       "      <td>1981-09-26</td>\n",
       "      <td>M</td>\n",
       "      <td>5.0</td>\n",
       "      <td>Electronics</td>\n",
       "      <td>8</td>\n",
       "      <td>Personal Appliances</td>\n",
       "      <td>2013-03-01</td>\n",
       "      <td>44</td>\n",
       "      <td>3</td>\n",
       "      <td>1030.0</td>\n",
       "    </tr>\n",
       "    <tr>\n",
       "      <th>3</th>\n",
       "      <td>4</td>\n",
       "      <td>13181563739</td>\n",
       "      <td>270351</td>\n",
       "      <td>2011-12-13</td>\n",
       "      <td>6</td>\n",
       "      <td>5</td>\n",
       "      <td>1</td>\n",
       "      <td>1048</td>\n",
       "      <td>110.040</td>\n",
       "      <td>1158.040</td>\n",
       "      <td>...</td>\n",
       "      <td>1981-09-26</td>\n",
       "      <td>M</td>\n",
       "      <td>5.0</td>\n",
       "      <td>Books</td>\n",
       "      <td>6</td>\n",
       "      <td>DIY</td>\n",
       "      <td>2011-12-01</td>\n",
       "      <td>44</td>\n",
       "      <td>12</td>\n",
       "      <td>1048.0</td>\n",
       "    </tr>\n",
       "    <tr>\n",
       "      <th>4</th>\n",
       "      <td>6</td>\n",
       "      <td>29258453508</td>\n",
       "      <td>270384</td>\n",
       "      <td>2014-02-20</td>\n",
       "      <td>5</td>\n",
       "      <td>3</td>\n",
       "      <td>5</td>\n",
       "      <td>1497</td>\n",
       "      <td>785.925</td>\n",
       "      <td>8270.925</td>\n",
       "      <td>...</td>\n",
       "      <td>1973-05-11</td>\n",
       "      <td>F</td>\n",
       "      <td>8.0</td>\n",
       "      <td>Electronics</td>\n",
       "      <td>5</td>\n",
       "      <td>Computers</td>\n",
       "      <td>2014-02-01</td>\n",
       "      <td>52</td>\n",
       "      <td>2</td>\n",
       "      <td>1497.0</td>\n",
       "    </tr>\n",
       "  </tbody>\n",
       "</table>\n",
       "<p>5 rows × 21 columns</p>\n",
       "</div>"
      ],
      "text/plain": [
       "   index  transaction_id  cust_id  tran_date  prod_subcat_code  prod_cat_code  \\\n",
       "0      1     80712190438   270351 2014-02-20                 1              1   \n",
       "1      2     36957441426   270351 2013-09-16                 3              2   \n",
       "2      3     12236277258   270351 2013-03-18                 8              3   \n",
       "3      4     13181563739   270351 2011-12-13                 6              5   \n",
       "4      6     29258453508   270384 2014-02-20                 5              3   \n",
       "\n",
       "   Qty  Rate      Tax  total_amt  ...        DOB Gender city_code  \\\n",
       "0    5   772  405.300   4265.300  ... 1981-09-26      M       5.0   \n",
       "1    3   361  113.715   1196.715  ... 1981-09-26      M       5.0   \n",
       "2    3  1030  324.450   3414.450  ... 1981-09-26      M       5.0   \n",
       "3    1  1048  110.040   1158.040  ... 1981-09-26      M       5.0   \n",
       "4    5  1497  785.925   8270.925  ... 1973-05-11      F       8.0   \n",
       "\n",
       "      prod_cat prod_sub_cat_code          prod_subcat  YearMonth age  Month  \\\n",
       "0     Clothing                 1                Women 2014-02-01  44      2   \n",
       "1     Footwear                 3                Women 2013-09-01  44      9   \n",
       "2  Electronics                 8  Personal Appliances 2013-03-01  44      3   \n",
       "3        Books                 6                  DIY 2011-12-01  44     12   \n",
       "4  Electronics                 5            Computers 2014-02-01  52      2   \n",
       "\n",
       "   Avg_Selling_Price  \n",
       "0              772.0  \n",
       "1              361.0  \n",
       "2             1030.0  \n",
       "3             1048.0  \n",
       "4             1497.0  \n",
       "\n",
       "[5 rows x 21 columns]"
      ]
     },
     "execution_count": 33,
     "metadata": {},
     "output_type": "execute_result"
    }
   ],
   "source": [
    "customer_final1.head()"
   ]
  },
  {
   "cell_type": "code",
   "execution_count": 34,
   "id": "f9ab0fb1-4fe3-44f8-99cc-525e34c31aed",
   "metadata": {},
   "outputs": [
    {
     "data": {
      "text/plain": [
       "Index(['transaction_id', 'cust_id', 'tran_date', 'prod_subcat_code',\n",
       "       'prod_cat_code', 'Qty', 'Rate', 'Tax', 'total_amt', 'Store_type', 'DOB',\n",
       "       'Gender', 'city_code', 'prod_cat', 'prod_sub_cat_code', 'prod_subcat',\n",
       "       'YearMonth', 'age', 'Month'],\n",
       "      dtype='object')"
      ]
     },
     "execution_count": 34,
     "metadata": {},
     "output_type": "execute_result"
    }
   ],
   "source": [
    "customer_final.columns"
   ]
  },
  {
   "cell_type": "code",
   "execution_count": 35,
   "id": "dcb474bb-11aa-423b-8e0b-b31f6ea3c379",
   "metadata": {},
   "outputs": [],
   "source": [
    "# One-hot encode categorical features\n",
    "df_encoded = pd.get_dummies(customer_final1[ ['Store_type', 'Gender']], drop_first=True)\n",
    "\n",
    "# Concatenate with numerical features\n",
    "model_data = pd.concat([\n",
    "    customer_final1[['prod_subcat_code', 'Qty','prod_cat_code','Rate','total_amt','city_code', 'Month', 'Avg_Selling_Price']],\n",
    "    df_encoded\n",
    "], axis=1)\n",
    "\n",
    "# Define target variable (e.g., Qty or total_amt)\n",
    "target = 'Qty'  # or 'total_amt'\n",
    "\n",
    "X = model_data.drop(columns=[target])\n",
    "y = model_data[target]\n"
   ]
  },
  {
   "cell_type": "code",
   "execution_count": 36,
   "id": "0d0380c4-83f8-410a-9603-d6d21c4f479b",
   "metadata": {},
   "outputs": [
    {
     "data": {
      "text/plain": [
       "prod_subcat_code       0\n",
       "prod_cat_code          0\n",
       "Rate                   0\n",
       "total_amt              0\n",
       "city_code              0\n",
       "Month                  0\n",
       "Avg_Selling_Price      0\n",
       "Store_type_MBR         0\n",
       "Store_type_TeleShop    0\n",
       "Store_type_e-Shop      0\n",
       "Gender_M               0\n",
       "dtype: int64"
      ]
     },
     "execution_count": 36,
     "metadata": {},
     "output_type": "execute_result"
    }
   ],
   "source": [
    "X.isna().sum()"
   ]
  },
  {
   "cell_type": "code",
   "execution_count": 37,
   "id": "9c07cb0f-7f57-416a-8030-b86d4a07b0de",
   "metadata": {},
   "outputs": [],
   "source": [
    "from sklearn.model_selection import train_test_split\n",
    "from sklearn.ensemble import RandomForestRegressor\n",
    "from sklearn.metrics import mean_squared_error, r2_score\n",
    "\n",
    "X_train, X_test, y_train, y_test = train_test_split(X, y, test_size=0.2, random_state=42)"
   ]
  },
  {
   "cell_type": "code",
   "execution_count": 38,
   "id": "0efd038d-f0b4-4ba5-b5e4-9d374cc365f0",
   "metadata": {},
   "outputs": [
    {
     "name": "stdout",
     "output_type": "stream",
     "text": [
      "RMSE: 0.014481283586232586\n",
      "R²: 0.99989613516623\n"
     ]
    }
   ],
   "source": [
    "model = RandomForestRegressor(n_estimators=100, random_state=42)\n",
    "model.fit(X_train, y_train)\n",
    "\n",
    "# Evaluate\n",
    "y_pred = model.predict(X_test)\n",
    "print(\"RMSE:\", mean_squared_error(y_test, y_pred, squared=False))\n",
    "print(\"R²:\", r2_score(y_test, y_pred))"
   ]
  },
  {
   "cell_type": "code",
   "execution_count": 45,
   "id": "6803b2b1-55c8-4bac-aeeb-9e22ab3b60b6",
   "metadata": {},
   "outputs": [
    {
     "data": {
      "text/html": [
       "<div>\n",
       "<style scoped>\n",
       "    .dataframe tbody tr th:only-of-type {\n",
       "        vertical-align: middle;\n",
       "    }\n",
       "\n",
       "    .dataframe tbody tr th {\n",
       "        vertical-align: top;\n",
       "    }\n",
       "\n",
       "    .dataframe thead th {\n",
       "        text-align: right;\n",
       "    }\n",
       "</style>\n",
       "<table border=\"1\" class=\"dataframe\">\n",
       "  <thead>\n",
       "    <tr style=\"text-align: right;\">\n",
       "      <th></th>\n",
       "      <th>Actual</th>\n",
       "      <th>Predicted</th>\n",
       "    </tr>\n",
       "  </thead>\n",
       "  <tbody>\n",
       "    <tr>\n",
       "      <th>0</th>\n",
       "      <td>3</td>\n",
       "      <td>3.00</td>\n",
       "    </tr>\n",
       "    <tr>\n",
       "      <th>1</th>\n",
       "      <td>4</td>\n",
       "      <td>4.00</td>\n",
       "    </tr>\n",
       "    <tr>\n",
       "      <th>2</th>\n",
       "      <td>4</td>\n",
       "      <td>4.02</td>\n",
       "    </tr>\n",
       "    <tr>\n",
       "      <th>3</th>\n",
       "      <td>5</td>\n",
       "      <td>5.00</td>\n",
       "    </tr>\n",
       "    <tr>\n",
       "      <th>4</th>\n",
       "      <td>1</td>\n",
       "      <td>1.00</td>\n",
       "    </tr>\n",
       "    <tr>\n",
       "      <th>...</th>\n",
       "      <td>...</td>\n",
       "      <td>...</td>\n",
       "    </tr>\n",
       "    <tr>\n",
       "      <th>4167</th>\n",
       "      <td>2</td>\n",
       "      <td>2.00</td>\n",
       "    </tr>\n",
       "    <tr>\n",
       "      <th>4168</th>\n",
       "      <td>4</td>\n",
       "      <td>4.00</td>\n",
       "    </tr>\n",
       "    <tr>\n",
       "      <th>4169</th>\n",
       "      <td>4</td>\n",
       "      <td>4.00</td>\n",
       "    </tr>\n",
       "    <tr>\n",
       "      <th>4170</th>\n",
       "      <td>3</td>\n",
       "      <td>3.00</td>\n",
       "    </tr>\n",
       "    <tr>\n",
       "      <th>4171</th>\n",
       "      <td>4</td>\n",
       "      <td>4.06</td>\n",
       "    </tr>\n",
       "  </tbody>\n",
       "</table>\n",
       "<p>4172 rows × 2 columns</p>\n",
       "</div>"
      ],
      "text/plain": [
       "      Actual  Predicted\n",
       "0          3       3.00\n",
       "1          4       4.00\n",
       "2          4       4.02\n",
       "3          5       5.00\n",
       "4          1       1.00\n",
       "...      ...        ...\n",
       "4167       2       2.00\n",
       "4168       4       4.00\n",
       "4169       4       4.00\n",
       "4170       3       3.00\n",
       "4171       4       4.06\n",
       "\n",
       "[4172 rows x 2 columns]"
      ]
     },
     "execution_count": 45,
     "metadata": {},
     "output_type": "execute_result"
    }
   ],
   "source": [
    "results_df = pd.DataFrame({\n",
    "    'Actual': y_test.values,\n",
    "    'Predicted': y_pred\n",
    "})\n",
    "results_df"
   ]
  },
  {
   "cell_type": "code",
   "execution_count": 199,
   "id": "4ff1a091-7fb7-4056-a1e7-4cc32a1c5321",
   "metadata": {},
   "outputs": [
    {
     "data": {
      "text/plain": [
       "Text(0.5, 1.0, 'Predicted vs Actual Quantity')"
      ]
     },
     "execution_count": 199,
     "metadata": {},
     "output_type": "execute_result"
    },
    {
     "data": {
      "image/png": "[encoded data removed]",
      "text/plain": [
       "<Figure size 640x480 with 1 Axes>"
      ]
     },
     "metadata": {},
     "output_type": "display_data"
    }
   ],
   "source": [
    "import matplotlib.pyplot as plt\n",
    "plt.scatter(y_test, y_pred)\n",
    "plt.xlabel(\"Actual\")\n",
    "plt.ylabel(\"Predicted\")\n",
    "plt.title(\"Predicted vs Actual Quantity\")\n"
   ]
  },
  {
   "cell_type": "code",
   "execution_count": 200,
   "id": "a799679e-1ea0-4ba5-be3f-efaa042320eb",
   "metadata": {},
   "outputs": [
    {
     "name": "stdout",
     "output_type": "stream",
     "text": [
      "Cross-validated R² scores: [0.99986541 0.99989388 0.99983989 0.99986707 0.99982987]\n"
     ]
    }
   ],
   "source": [
    "# Cross Validation\n",
    "\n",
    "from sklearn.model_selection import cross_val_score\n",
    "scores = cross_val_score(model, X, y, scoring='r2', cv=5)\n",
    "print(\"Cross-validated R² scores:\", scores)\n"
   ]
  },
  {
   "cell_type": "code",
   "execution_count": 201,
   "id": "c55d25a6-34ab-4c0b-a5bf-b470eefaaf45",
   "metadata": {},
   "outputs": [
    {
     "data": {
      "text/plain": [
       "Text(0.5, 1.0, 'Top 10 Feature Importances')"
      ]
     },
     "execution_count": 201,
     "metadata": {},
     "output_type": "execute_result"
    },
    {
     "data": {
      "image/png": "[encoded data removed]",
      "text/plain": [
       "<Figure size 640x480 with 1 Axes>"
      ]
     },
     "metadata": {},
     "output_type": "display_data"
    }
   ],
   "source": [
    "import matplotlib.pyplot as plt\n",
    "import seaborn as sns\n",
    "\n",
    "feat_imp = pd.Series(model.feature_importances_, index=X.columns)\n",
    "feat_imp.nlargest(10).plot(kind='barh')\n",
    "plt.title(\"Top 10 Feature Importances\")\n"
   ]
  },
  {
   "cell_type": "code",
   "execution_count": null,
   "id": "9170dfad-22a4-49b0-9b7a-c731f76b7f0b",
   "metadata": {},
   "outputs": [],
   "source": []
  },
  {
   "cell_type": "code",
   "execution_count": null,
   "id": "679544f0-4449-45ab-b2f1-12a2dc150d99",
   "metadata": {},
   "outputs": [],
   "source": []
  },
  {
   "cell_type": "code",
   "execution_count": null,
   "id": "16a45a24-ba99-4263-b335-71c63787b6dc",
   "metadata": {},
   "outputs": [],
   "source": []
  },
  {
   "cell_type": "code",
   "execution_count": null,
   "id": "9ec4f6f5-240c-4bd5-98a4-ace18bf1ac9f",
   "metadata": {},
   "outputs": [],
   "source": []
  },
  {
   "cell_type": "code",
   "execution_count": null,
   "id": "acc9258b-4e1b-4e36-8130-6253ab85fc41",
   "metadata": {},
   "outputs": [],
   "source": []
  },
  {
   "cell_type": "code",
   "execution_count": null,
   "id": "db4f008e-ab1d-4c34-91e1-5f9ba5b30e4a",
   "metadata": {},
   "outputs": [],
   "source": []
  },
  {
   "cell_type": "code",
   "execution_count": null,
   "id": "bc6cc9b2-e7f3-46bb-b933-3f104f079fb1",
   "metadata": {},
   "outputs": [],
   "source": []
  },
  {
   "cell_type": "code",
   "execution_count": null,
   "id": "d84ef487-c2d4-4cff-a1f7-280a3b0e5e08",
   "metadata": {},
   "outputs": [],
   "source": []
  },
  {
   "cell_type": "code",
   "execution_count": null,
   "id": "c5af6e79-48de-4bb8-9e0d-d5d279d28f83",
   "metadata": {},
   "outputs": [],
   "source": []
  },
  {
   "cell_type": "code",
   "execution_count": null,
   "id": "293c4985-f77f-45f3-a54f-44044d65469c",
   "metadata": {},
   "outputs": [],
   "source": []
  },
  {
   "cell_type": "code",
   "execution_count": null,
   "id": "691a4a33-e11a-498c-b50a-f8db8a1926e8",
   "metadata": {},
   "outputs": [],
   "source": []
  },
  {
   "cell_type": "code",
   "execution_count": null,
   "id": "6b6a3dd5-7945-44a4-870d-dcc6b15ca2f5",
   "metadata": {},
   "outputs": [],
   "source": []
  }
 ],
 "metadata": {
  "kernelspec": {
   "display_name": "Python 3 (ipykernel)",
   "language": "python",
   "name": "python3"
  },
  "language_info": {
   "codemirror_mode": {
    "name": "ipython",
    "version": 3
   },
   "file_extension": ".py",
   "mimetype": "text/x-python",
   "name": "python",
   "nbconvert_exporter": "python",
   "pygments_lexer": "ipython3",
   "version": "3.11.7"
  }
 },
 "nbformat": 4,
 "nbformat_minor": 5
}
